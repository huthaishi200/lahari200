{
 "cells": [
  {
   "cell_type": "code",
   "execution_count": 1,
   "metadata": {},
   "outputs": [
    {
     "name": "stdout",
     "output_type": "stream",
     "text": [
      "Enter a string: 4\n",
      "Length of the input string is: 1\n"
     ]
    }
   ],
   "source": [
    "# 1.calculate len of string\n",
    "\n",
    "str = input(\"Enter a string: \")\n",
    "count = 0\n",
    "for s in str:\n",
    "      count = count+1\n",
    "print(\"Length of the input string is:\", count)"
   ]
  },
  {
   "cell_type": "code",
   "execution_count": 3,
   "metadata": {},
   "outputs": [
    {
     "name": "stdout",
     "output_type": "stream",
     "text": [
      "{'l': 1, 'a': 2, 'h': 1, 'r': 1, 'i': 1}\n"
     ]
    }
   ],
   "source": [
    "#count the number of character in a string\n",
    "\n",
    "def char_frequency(str1):\n",
    "    dict = {}\n",
    "    for n in str1:\n",
    "        keys = dict.keys()\n",
    "        if n in keys:\n",
    "            dict[n] += 1\n",
    "        else:\n",
    "            dict[n] = 1\n",
    "    return dict\n",
    "print(char_frequency('lahari'))"
   ]
  },
  {
   "cell_type": "code",
   "execution_count": 4,
   "metadata": {},
   "outputs": [
    {
     "name": "stdout",
     "output_type": "stream",
     "text": [
      "rakshmi lamanji\n"
     ]
    }
   ],
   "source": [
    "#prgrm to get a single string from two given strings seperated by a space and swaping first two characters of each string\n",
    "\n",
    "def chars_mix_up(a, b):\n",
    "  new_a = b[:2] + a[2:]\n",
    "  new_b = a[:2] + b[2:]\n",
    "\n",
    "  return new_a + ' ' + new_b\n",
    "print(chars_mix_up('lakshmi', 'ramanji'))"
   ]
  },
  {
   "cell_type": "code",
   "execution_count": 5,
   "metadata": {},
   "outputs": [
    {
     "name": "stdout",
     "output_type": "stream",
     "text": [
      "Where are you from?:3\n",
      "I'm from  3\n",
      "I'm from 3\n"
     ]
    }
   ],
   "source": [
    "# python script that takes input from user and displays that input back in upper and lower cases\n",
    "\n",
    "user_input = input(\"Where are you from?:\")\n",
    "print(\"I'm from \", user_input.upper())\n",
    "print(\"I'm from\", user_input.lower())"
   ]
  },
  {
   "cell_type": "code",
   "execution_count": 6,
   "metadata": {},
   "outputs": [
    {
     "name": "stdout",
     "output_type": "stream",
     "text": [
      "lahari\n",
      "\n",
      "lahari\n"
     ]
    }
   ],
   "source": [
    "#removing a newline in python\n",
    "\n",
    "str1='lahari\\n'\n",
    "print(str1)\n",
    "print(str1.rstrip())"
   ]
  },
  {
   "cell_type": "code",
   "execution_count": 8,
   "metadata": {},
   "outputs": [
    {
     "name": "stdout",
     "output_type": "stream",
     "text": [
      "\n",
      "1\n",
      "\n"
     ]
    }
   ],
   "source": [
    "\n",
    "# program to count occurences of a substring in a string\n",
    "\n",
    "str1='iam lahari'\n",
    "print()\n",
    "print(str1.count(\"lahari\"))\n",
    "print()"
   ]
  },
  {
   "cell_type": "code",
   "execution_count": 9,
   "metadata": {},
   "outputs": [
    {
     "name": "stdout",
     "output_type": "stream",
     "text": [
      "original string is:pooja\n",
      "string after removal of 'i'th character:p\n",
      "string after removal of 'i'th character:po\n",
      "string after removal of 'i'th character:poj\n",
      "string after removal of 'i'th character:poja\n"
     ]
    }
   ],
   "source": [
    "# converting a string in a list\n",
    "\n",
    "test_str=\"pooja\"\n",
    "print(\"original string is:\"+test_str)\n",
    "new_str=''\n",
    "for i in range(len(test_str)):\n",
    "    if i!=2:\n",
    "        new_str=new_str+test_str[i]\n",
    "        print(\"string after removal of 'i'th character:\"+new_str)"
   ]
  },
  {
   "cell_type": "code",
   "execution_count": 10,
   "metadata": {},
   "outputs": [
    {
     "name": "stdout",
     "output_type": "stream",
     "text": [
      "pooa\n"
     ]
    }
   ],
   "source": [
    "# perform deletion of a character\n",
    "\n",
    "s = 'pooja'\n",
    "\n",
    "print(s.replace('j', ''))"
   ]
  },
  {
   "cell_type": "code",
   "execution_count": 11,
   "metadata": {},
   "outputs": [
    {
     "name": "stdout",
     "output_type": "stream",
     "text": [
      "enter a string6\n",
      "The Character at 0 Index Position = 6\n"
     ]
    }
   ],
   "source": [
    "# program to print every character of a string entered by user in a newline using loop\n",
    "\n",
    "str1=input('enter a string')\n",
    "for i in range(len(str1)):\n",
    "    print(\"The Character at %d Index Position = %c\" %(i, str1[i]))"
   ]
  },
  {
   "cell_type": "code",
   "execution_count": 12,
   "metadata": {},
   "outputs": [
    {
     "name": "stdout",
     "output_type": "stream",
     "text": [
      "Length of the input string is: 15\n"
     ]
    }
   ],
   "source": [
    "# program to find length of refrigerator without using le function\n",
    "\n",
    "str = \"air conditioner\"\n",
    "count = 0\n",
    "for s in str:\n",
    "      count = count+1\n",
    "print(\"Length of the input string is:\", count)"
   ]
  },
  {
   "cell_type": "code",
   "execution_count": null,
   "metadata": {},
   "outputs": [],
   "source": []
  }
 ],
 "metadata": {
  "kernelspec": {
   "display_name": "Python 3",
   "language": "python",
   "name": "python3"
  },
  "language_info": {
   "codemirror_mode": {
    "name": "ipython",
    "version": 3
   },
   "file_extension": ".py",
   "mimetype": "text/x-python",
   "name": "python",
   "nbconvert_exporter": "python",
   "pygments_lexer": "ipython3",
   "version": "3.8.3"
  }
 },
 "nbformat": 4,
 "nbformat_minor": 4
}
