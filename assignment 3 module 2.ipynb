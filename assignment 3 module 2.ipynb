{
 "cells": [
  {
   "cell_type": "code",
   "execution_count": 2,
   "metadata": {},
   "outputs": [
    {
     "name": "stdout",
     "output_type": "stream",
     "text": [
      "enter the radius of the circle:3\n",
      "28.274333882308138\n"
     ]
    }
   ],
   "source": [
    "#1.write a program to find area of circle using math function\n",
    "\n",
    "import math\n",
    "r = float(input(\"enter the radius of the circle:\"))\n",
    "area = math.pi* r * r\n",
    "\n",
    "print(area)"
   ]
  },
  {
   "cell_type": "code",
   "execution_count": 5,
   "metadata": {},
   "outputs": [
    {
     "name": "stdout",
     "output_type": "stream",
     "text": [
      "input numbers of sides: 4\n",
      "input the length of a side: 5\n",
      "the area of the polygon is:  25.000000000000004\n"
     ]
    }
   ],
   "source": [
    "# 2.write a program to find area of regular polygon using math function from math import tan,ip\n",
    "\n",
    "from math import tan,pi\n",
    "n = int(input(\"input numbers of sides: \"))\n",
    "\n",
    "length = float(input(\"input the length of a side: \"))\n",
    "area = n * (length**2)/(4 * tan(pi/n))\n",
    "print(\"the area of the polygon is: \",area)"
   ]
  },
  {
   "cell_type": "code",
   "execution_count": 6,
   "metadata": {},
   "outputs": [
    {
     "name": "stdout",
     "output_type": "stream",
     "text": [
      "[2, 1, 40, 'hai', 100, 30, 'hello', 3]\n"
     ]
    }
   ],
   "source": [
    "#4.Write a python program to shuffle list l1=[100,1,2,3,30,40,”hai”,”hello”].\n",
    "from random import shuffle\n",
    "l1 = [100,1,2,3,30,40,\"hai\",\"hello\"]\n",
    "shuffle(l1)\n",
    "print(l1)\n"
   ]
  },
  {
   "cell_type": "code",
   "execution_count": 29,
   "metadata": {},
   "outputs": [
    {
     "name": "stdout",
     "output_type": "stream",
     "text": [
      "-0.3048106211022167\n"
     ]
    }
   ],
   "source": [
    "#5.write a program program by using math module to find\n",
    "\n",
    "#a.sin 60\n",
    "\n",
    "import math\n",
    "\n",
    "sine=math.sin(60)\n",
    "\n",
    "print(sine)"
   ]
  },
  {
   "cell_type": "code",
   "execution_count": 30,
   "metadata": {},
   "outputs": [
    {
     "name": "stdout",
     "output_type": "stream",
     "text": [
      "-1.0\n"
     ]
    }
   ],
   "source": [
    "#b.cos(pi)\n",
    "\n",
    "import math\n",
    "\n",
    "co=math.cos(pi)\n",
    "\n",
    "print(co)"
   ]
  },
  {
   "cell_type": "code",
   "execution_count": 31,
   "metadata": {},
   "outputs": [
    {
     "name": "stdout",
     "output_type": "stream",
     "text": [
      "-1.995200412208242\n"
     ]
    }
   ],
   "source": [
    "#c.tan(90)\n",
    "import math \n",
    "ta=math.tan(90)\n",
    "print(ta)"
   ]
  },
  {
   "cell_type": "code",
   "execution_count": 33,
   "metadata": {},
   "outputs": [
    {
     "name": "stdout",
     "output_type": "stream",
     "text": [
      "0.7617599814162892\n"
     ]
    }
   ],
   "source": [
    "#d.amgle ofsin(0.8660254037844386)\n",
    "\n",
    "\n",
    "import math\n",
    "\n",
    "print(math.sin((0.8660254037844386)))"
   ]
  },
  {
   "cell_type": "code",
   "execution_count": 34,
   "metadata": {},
   "outputs": [
    {
     "name": "stdout",
     "output_type": "stream",
     "text": [
      "390625\n"
     ]
    }
   ],
   "source": [
    "#e.5^8\n",
    "print(5**8)"
   ]
  },
  {
   "cell_type": "code",
   "execution_count": 35,
   "metadata": {},
   "outputs": [
    {
     "name": "stdout",
     "output_type": "stream",
     "text": [
      "20.0\n"
     ]
    }
   ],
   "source": [
    "#f.square root of 400\n",
    "print(400**0.5)"
   ]
  },
  {
   "cell_type": "code",
   "execution_count": 36,
   "metadata": {},
   "outputs": [
    {
     "name": "stdout",
     "output_type": "stream",
     "text": [
      "13.591409142295225\n"
     ]
    }
   ],
   "source": [
    "#g.the value of 5^e\n",
    "import math\n",
    "\n",
    "print(5*(math.e))"
   ]
  },
  {
   "cell_type": "code",
   "execution_count": 37,
   "metadata": {},
   "outputs": [
    {
     "name": "stdout",
     "output_type": "stream",
     "text": [
      "10.0\n"
     ]
    }
   ],
   "source": [
    "#h.the value of log(1024),base 2\n",
    "\n",
    "import math\n",
    "\n",
    "print(math.log2(1024))"
   ]
  },
  {
   "cell_type": "code",
   "execution_count": 38,
   "metadata": {},
   "outputs": [
    {
     "name": "stdout",
     "output_type": "stream",
     "text": [
      "3.010299956639812\n"
     ]
    }
   ],
   "source": [
    "#i.the value of log(1024),base 10\n",
    "\n",
    "import math\n",
    "\n",
    "print(math.log10(1024))"
   ]
  },
  {
   "cell_type": "code",
   "execution_count": 2,
   "metadata": {},
   "outputs": [
    {
     "name": "stdout",
     "output_type": "stream",
     "text": [
      "23\n",
      "24\n"
     ]
    }
   ],
   "source": [
    "#j.the floor and celling value of 23.56\n",
    "\n",
    "import math\n",
    "\n",
    "print(math.floor(23.56))\n",
    "print(math.ceil(23.56))\n"
   ]
  },
  {
   "cell_type": "code",
   "execution_count": 40,
   "metadata": {},
   "outputs": [
    {
     "name": "stdout",
     "output_type": "stream",
     "text": [
      "enter the radius6\n",
      "enter the angle8\n",
      "area of minor segment= 0.008158305590656667\n",
      "area of major segment= 113.0891772236419\n"
     ]
    }
   ],
   "source": [
    "#3.write a  program to find Area of a Segment of a Circle Formula using math function.\n",
    "import math\n",
    "def segmentarea(r,angle):\n",
    "    areaofsector = pi * (r * r) * (angle / 360) \n",
    "    areaoftriangle = 1 / 2 *(r * r) *math.sin((angle * pi) / 180) \n",
    "  \n",
    "    return areaofsector - areaoftriangle; \n",
    "r=int(input(\"enter the radius\"))\n",
    "angle=int(input(\"enter the angle\"))\n",
    "print(\"area of minor segment=\",segmentarea(r,angle))\n",
    "print(\"area of major segment=\",segmentarea(r,(360-angle)))\n"
   ]
  },
  {
   "cell_type": "code",
   "execution_count": null,
   "metadata": {},
   "outputs": [],
   "source": []
  }
 ],
 "metadata": {
  "kernelspec": {
   "display_name": "Python 3",
   "language": "python",
   "name": "python3"
  },
  "language_info": {
   "codemirror_mode": {
    "name": "ipython",
    "version": 3
   },
   "file_extension": ".py",
   "mimetype": "text/x-python",
   "name": "python",
   "nbconvert_exporter": "python",
   "pygments_lexer": "ipython3",
   "version": "3.8.3"
  }
 },
 "nbformat": 4,
 "nbformat_minor": 4
}
