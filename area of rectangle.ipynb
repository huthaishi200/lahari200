{
 "cells": [
  {
   "cell_type": "code",
   "execution_count": 4,
   "metadata": {},
   "outputs": [
    {
     "name": "stdout",
     "output_type": "stream",
     "text": [
      "enter the width of a rectangle: 4\n",
      "enter the height of a rectangle: 6\n",
      "\n",
      " area of a rectangle is: 24.00\n"
     ]
    }
   ],
   "source": [
    "width = float(input('enter the width of a rectangle: '))\n",
    "heigth = float(input('enter the height of a rectangle: '))\n",
    "\n",
    "area = width*heigth\n",
    "\n",
    "perimeter = 2*(width + heigth)\n",
    "print(\"\\n area of a rectangle is: %.2f\" %area)\n"
   ]
  },
  {
   "cell_type": "code",
   "execution_count": null,
   "metadata": {},
   "outputs": [],
   "source": []
  },
  {
   "cell_type": "code",
   "execution_count": null,
   "metadata": {},
   "outputs": [],
   "source": []
  }
 ],
 "metadata": {
  "kernelspec": {
   "display_name": "Python 3",
   "language": "python",
   "name": "python3"
  },
  "language_info": {
   "codemirror_mode": {
    "name": "ipython",
    "version": 3
   },
   "file_extension": ".py",
   "mimetype": "text/x-python",
   "name": "python",
   "nbconvert_exporter": "python",
   "pygments_lexer": "ipython3",
   "version": "3.8.3"
  }
 },
 "nbformat": 4,
 "nbformat_minor": 4
}
