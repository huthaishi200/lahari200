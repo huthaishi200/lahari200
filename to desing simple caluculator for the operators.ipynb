{
 "cells": [
  {
   "cell_type": "code",
   "execution_count": 2,
   "metadata": {},
   "outputs": [
    {
     "name": "stdout",
     "output_type": "stream",
     "text": [
      "enter your first number: 10\n",
      "enter your second number: 3\n",
      "10 + 3 = \n",
      "13\n",
      "10 - 3 = \n",
      "7\n",
      "10 * 3 = \n",
      "30\n",
      "10 / 3 = \n",
      "3.3333333333333335\n",
      "10 % 3 = \n",
      "1\n",
      "10 ** 3 = \n",
      "1000\n",
      "10 // 3 = \n",
      "3\n"
     ]
    }
   ],
   "source": [
    "x = int(input('enter your first number: '))\n",
    "y = int(input('enter your second number: '))\n",
    "\n",
    "print('{} + {} = '.format(x , y))\n",
    "print(x + y)\n",
    "\n",
    "print('{} - {} = '.format(x , y))\n",
    "print(x - y)\n",
    "\n",
    "print('{} * {} = '.format(x , y))\n",
    "print(x * y)\n",
    "\n",
    "\n",
    "print('{} / {} = '.format(x , y))\n",
    "print(x / y)\n",
    "\n",
    "print('{} % {} = '.format(x , y))\n",
    "print(x % y)\n",
    "\n",
    "print('{} ** {} = '.format(x , y))\n",
    "print(x ** y)\n",
    "\n",
    "print('{} // {} = '.format(x , y))\n",
    "print(x // y)"
   ]
  },
  {
   "cell_type": "code",
   "execution_count": null,
   "metadata": {},
   "outputs": [],
   "source": []
  }
 ],
 "metadata": {
  "kernelspec": {
   "display_name": "Python 3",
   "language": "python",
   "name": "python3"
  },
  "language_info": {
   "codemirror_mode": {
    "name": "ipython",
    "version": 3
   },
   "file_extension": ".py",
   "mimetype": "text/x-python",
   "name": "python",
   "nbconvert_exporter": "python",
   "pygments_lexer": "ipython3",
   "version": "3.8.3"
  }
 },
 "nbformat": 4,
 "nbformat_minor": 4
}
