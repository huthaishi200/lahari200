{
 "cells": [
  {
   "cell_type": "code",
   "execution_count": 3,
   "metadata": {},
   "outputs": [
    {
     "name": "stdout",
     "output_type": "stream",
     "text": [
      "Enter the first number: 3\n",
      "Enter the second number: 4\n",
      " input is not equal\n"
     ]
    }
   ],
   "source": [
    "#1.Take two inputs and check whether they are equal or not\n",
    "a = input(\"Enter the first number: \")\n",
    "b = input(\"Enter the second number: \")\n",
    "if a == b:\n",
    "  print (\"Both inputs are equal\")\n",
    "else:\n",
    "  print (\" input is not equal\")\n"
   ]
  },
  {
   "cell_type": "code",
   "execution_count": 5,
   "metadata": {},
   "outputs": [
    {
     "name": "stdout",
     "output_type": "stream",
     "text": [
      "enter the first number6\n",
      "enter the second number7\n",
      "enter the third number5\n",
      "All are equal: False\n",
      "Any of two are equal: False\n"
     ]
    }
   ],
   "source": [
    "#2.Take 3 inputs from user and check:all are equal any of two are not equal(use or or)\n",
    "num1=int(input(\"enter the first number\"))\n",
    "num2=int(input(\"enter the second number\"))\n",
    "num3=int(input(\"enter the third number\"))\n",
    "all = num1 == num2 and num2 == num3 and num3 == num1\n",
    "print (\"All are equal:\",all)\n",
    "any = num1 == num2 or num2 == num3 or num3 == num1\n",
    "print (\"Any of two are equal:\",any)\n"
   ]
  },
  {
   "cell_type": "code",
   "execution_count": 6,
   "metadata": {},
   "outputs": [
    {
     "name": "stdout",
     "output_type": "stream",
     "text": [
      "enter a first number3\n",
      "enter a second number6\n",
      "Sum is greater than 5: True\n",
      "Sum is equal to 5: False\n",
      "Sum is lesser than 5: False\n"
     ]
    }
   ],
   "source": [
    "#3.Check whether the sum is greater than 5,less than 5 orequal to 5.\n",
    "a=int(input(\"enter a first number\"))\n",
    "b=int(input(\"enter a second number\"))\n",
    "sum = a+b\n",
    "print (\"Sum is greater than 5:\",sum>5)\n",
    "print (\"Sum is equal to 5:\",sum==5)\n",
    "print (\"Sum is lesser than 5:\",sum<5)\n"
   ]
  },
  {
   "cell_type": "code",
   "execution_count": 7,
   "metadata": {},
   "outputs": [
    {
     "name": "stdout",
     "output_type": "stream",
     "text": [
      "enter the marks8\n",
      "Marks is greater than passing marks: False\n"
     ]
    }
   ],
   "source": [
    "#4.Suppose passing marks of a student is 35.Take two input of marks from user and check whether it is greatest than passing marks or not.\n",
    "pm = 35\n",
    "marks = int(input(\"enter the marks\"))\n",
    "print (\"Marks is greater than passing marks:\", marks>pm)\n"
   ]
  },
  {
   "cell_type": "code",
   "execution_count": 17,
   "metadata": {},
   "outputs": [
    {
     "name": "stdout",
     "output_type": "stream",
     "text": [
      "None\n"
     ]
    }
   ],
   "source": [
    "#5.Write a Python function to find the max of three numbers.\n",
    " \n",
    "def maximum(a, b, c): \n",
    "    \n",
    "    if (a >= b) and (a >= c):\n",
    "        largest = a \n",
    "  \n",
    "    elif (b >= a) and (b >= c):\n",
    "        largest = b\n",
    "    else: \n",
    "        largest = c \n",
    "        return largest  \n",
    "a = 10\n",
    "b = 14\n",
    "c = 12\n",
    "print(maximum(a, b, c))\n"
   ]
  },
  {
   "cell_type": "code",
   "execution_count": null,
   "metadata": {},
   "outputs": [],
   "source": []
  }
 ],
 "metadata": {
  "kernelspec": {
   "display_name": "Python 3",
   "language": "python",
   "name": "python3"
  },
  "language_info": {
   "codemirror_mode": {
    "name": "ipython",
    "version": 3
   },
   "file_extension": ".py",
   "mimetype": "text/x-python",
   "name": "python",
   "nbconvert_exporter": "python",
   "pygments_lexer": "ipython3",
   "version": "3.8.3"
  }
 },
 "nbformat": 4,
 "nbformat_minor": 4
}
