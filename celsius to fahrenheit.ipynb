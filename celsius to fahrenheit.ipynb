{
 "cells": [
  {
   "cell_type": "code",
   "execution_count": 1,
   "metadata": {},
   "outputs": [
    {
     "name": "stdout",
     "output_type": "stream",
     "text": [
      "enter temperature in celsius: 40\n",
      "40.00 celsius is : 104.00 fahrenheit\n"
     ]
    }
   ],
   "source": [
    "celsius = float(input(\"enter temperature in celsius: \"))\n",
    "fahrenheit = (celsius * 9/5) +32\n",
    "print('%.2f celsius is : %0.2f fahrenheit' %(celsius, fahrenheit))"
   ]
  }
 ],
 "metadata": {
  "kernelspec": {
   "display_name": "Python 3",
   "language": "python",
   "name": "python3"
  },
  "language_info": {
   "codemirror_mode": {
    "name": "ipython",
    "version": 3
   },
   "file_extension": ".py",
   "mimetype": "text/x-python",
   "name": "python",
   "nbconvert_exporter": "python",
   "pygments_lexer": "ipython3",
   "version": "3.8.3"
  }
 },
 "nbformat": 4,
 "nbformat_minor": 4
}
