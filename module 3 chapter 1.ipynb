{
 "cells": [
  {
   "cell_type": "code",
   "execution_count": 2,
   "metadata": {},
   "outputs": [
    {
     "name": "stdout",
     "output_type": "stream",
     "text": [
      "1\n",
      "2\n",
      "18\n"
     ]
    }
   ],
   "source": [
    "#convert binary number to decimal\n",
    "\n",
    "def binary_to_decimal(binary):\n",
    "    i,integer = 0,0\n",
    "    size = len(binary)\n",
    "    while i < len(binary):\n",
    "        integer += int(binary[size - 1 - i])*pow(2,i)\n",
    "        i+=1\n",
    "    print(integer)\n",
    "binary_to_decimal(\"001\")\n",
    "binary_to_decimal(\"010\")\n",
    "binary_to_decimal(\"10010\")\n"
   ]
  },
  {
   "cell_type": "code",
   "execution_count": 3,
   "metadata": {},
   "outputs": [
    {
     "name": "stdout",
     "output_type": "stream",
     "text": [
      "enter the number7\n",
      "1  \n",
      "1  \n",
      "2  \n",
      "3  \n",
      "5  \n",
      "8  \n",
      "13  \n"
     ]
    }
   ],
   "source": [
    "#Generate first n number of fibonacci numbers.take n value from user\n",
    "\n",
    "def Fibonacci(n): \n",
    "    f1=0\n",
    "    f2=1\n",
    "    if n<1: \n",
    "        print(\"Incorrect input\")  \n",
    "    for x in range(0, n): \n",
    "        print(f2,\" \") \n",
    "        next = f1 + f2 \n",
    "        f1 = f2 \n",
    "        f2 = next\n",
    "n=int(input(\"enter the number\"))\n",
    "Fibonacci(n)"
   ]
  },
  {
   "cell_type": "code",
   "execution_count": 4,
   "metadata": {},
   "outputs": [
    {
     "name": "stdout",
     "output_type": "stream",
     "text": [
      "enter the number7\n",
      "7 x 1 = 7\n",
      "7 x 2 = 14\n",
      "7 x 3 = 21\n",
      "7 x 4 = 28\n",
      "7 x 5 = 35\n",
      "7 x 6 = 42\n",
      "7 x 7 = 49\n",
      "7 x 8 = 56\n",
      "7 x 9 = 63\n",
      "7 x 10 = 70\n"
     ]
    }
   ],
   "source": [
    "#Display multpication table of K. Take K from the user\n",
    "\n",
    "k=int(input(\"enter the number\"))\n",
    "for i in range(1, 11):\n",
    "   print(k, 'x', i, '=', k*i)"
   ]
  },
  {
   "cell_type": "code",
   "execution_count": 5,
   "metadata": {},
   "outputs": [
    {
     "name": "stdout",
     "output_type": "stream",
     "text": [
      "Input some integers to calculate their average: \n",
      "7\n",
      "8\n",
      "3\n",
      "2\n",
      "4\n",
      "6\n",
      "0\n",
      "7\n",
      "2\n",
      "3\n",
      "Average of the above numbers are:  4.2\n"
     ]
    }
   ],
   "source": [
    "#Take 10 integers the from keyboard using loop and print their avearge value on the screen\n",
    "\n",
    "print(\"Input some integers to calculate their average: \")\n",
    "count = 0\n",
    "sum = 0\n",
    "for i in range(0,10):\n",
    "    number = int(input(\"\"))\n",
    "    sum = sum + number\n",
    "    count += 1\n",
    "if count == 0:\n",
    "    print(\"Input some numbers\")\n",
    "else:\n",
    "    print(\"Average of the above numbers are: \", sum / (count))"
   ]
  },
  {
   "cell_type": "code",
   "execution_count": 6,
   "metadata": {},
   "outputs": [
    {
     "name": "stdout",
     "output_type": "stream",
     "text": [
      "*\n",
      "**\n",
      "***\n",
      "****\n"
     ]
    }
   ],
   "source": [
    "#print the following pattern using loop.\n",
    "\n",
    "i=1\n",
    "while i<=4:\n",
    "    print(\"*\"*i)\n",
    "    i=i+1"
   ]
  },
  {
   "cell_type": "code",
   "execution_count": 7,
   "metadata": {},
   "outputs": [
    {
     "name": "stdout",
     "output_type": "stream",
     "text": [
      "GCD of 98 and 56 is 14\n"
     ]
    }
   ],
   "source": [
    "#Write a program to find greatest common divisor (GCD) or highest common factor (HCF) of given two numbers\n",
    "   \n",
    "def gcd(a,b): \n",
    "    if (b == 0): \n",
    "         return a \n",
    "    return gcd(b, a%b) \n",
    "a = 98\n",
    "b = 56\n",
    "if(gcd(a, b)): \n",
    "    print('GCD of', a, 'and', b, 'is', gcd(a, b)) \n",
    "else: \n",
    "    print('not found')"
   ]
  },
  {
   "cell_type": "code",
   "execution_count": 8,
   "metadata": {},
   "outputs": [
    {
     "name": "stdout",
     "output_type": "stream",
     "text": [
      "enter the string:4\n",
      "the original string is:\n",
      "4\n",
      "the  reverse string is:\n",
      "4\n"
     ]
    }
   ],
   "source": [
    "#write a python program to reverse a string\n",
    "\n",
    "def reverse(s):\n",
    "    if len(s)==0:\n",
    "        return s\n",
    "    else:\n",
    "        return reverse(s[1:])+s[0]\n",
    "s=input(\"enter the string:\")\n",
    "print(\"the original string is:\")\n",
    "print(s)\n",
    "print(\"the  reverse string is:\")\n",
    "print(reverse(s))"
   ]
  },
  {
   "cell_type": "code",
   "execution_count": 9,
   "metadata": {},
   "outputs": [
    {
     "name": "stdout",
     "output_type": "stream",
     "text": [
      "Even numbers in the list:  0\n",
      "Odd numbers in the list:  1\n",
      "Even numbers in the list:  0\n",
      "Odd numbers in the list:  2\n",
      "Even numbers in the list:  1\n",
      "Odd numbers in the list:  2\n",
      "Even numbers in the list:  2\n",
      "Odd numbers in the list:  2\n",
      "Even numbers in the list:  2\n",
      "Odd numbers in the list:  3\n",
      "Even numbers in the list:  3\n",
      "Odd numbers in the list:  3\n"
     ]
    }
   ],
   "source": [
    "#Write a Python program to count the number of even and odd numbers from a series of numbers\n",
    "\n",
    "list1 = [21,23,24,12,13,18] \n",
    "even, odd = 0, 0\n",
    "for num in list1: \n",
    "        if num % 2 == 0: \n",
    "            even += 1\n",
    "        else: \n",
    "            odd += 1\n",
    "        print(\"Even numbers in the list: \", even) \n",
    "        print(\"Odd numbers in the list: \", odd)"
   ]
  },
  {
   "cell_type": "code",
   "execution_count": 10,
   "metadata": {},
   "outputs": [
    {
     "name": "stdout",
     "output_type": "stream",
     "text": [
      "0\n",
      "1\n",
      "2\n",
      "4\n",
      "5\n"
     ]
    }
   ],
   "source": [
    "#Write a Python program that prints all the numbers from 0 to 6 except 3 and 6\n",
    "\n",
    "for i in range(0,7):\n",
    "    if(i==3 or i==6):\n",
    "        continue\n",
    "    print(i)"
   ]
  },
  {
   "cell_type": "code",
   "execution_count": null,
   "metadata": {},
   "outputs": [],
   "source": []
  }
 ],
 "metadata": {
  "kernelspec": {
   "display_name": "Python 3",
   "language": "python",
   "name": "python3"
  },
  "language_info": {
   "codemirror_mode": {
    "name": "ipython",
    "version": 3
   },
   "file_extension": ".py",
   "mimetype": "text/x-python",
   "name": "python",
   "nbconvert_exporter": "python",
   "pygments_lexer": "ipython3",
   "version": "3.8.3"
  }
 },
 "nbformat": 4,
 "nbformat_minor": 4
}
