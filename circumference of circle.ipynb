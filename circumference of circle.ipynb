{
 "cells": [
  {
   "cell_type": "code",
   "execution_count": 1,
   "metadata": {},
   "outputs": [
    {
     "name": "stdout",
     "output_type": "stream",
     "text": [
      "enter 'x' for exit.\n",
      "enter radius of circle: 6\n",
      "\n",
      " circumference of  circle = 37.68\n"
     ]
    }
   ],
   "source": [
    "print(\"enter 'x' for exit.\");\n",
    "rad = input(\"enter radius of circle: \");\n",
    "if rad == 'x':\n",
    "    exit();\n",
    "else:\n",
    "    radius = float(rad);\n",
    "    circumference = 2*3.14*radius;\n",
    "    print(\"\\n circumference of  circle =\",circumference);"
   ]
  },
  {
   "cell_type": "code",
   "execution_count": null,
   "metadata": {},
   "outputs": [],
   "source": []
  }
 ],
 "metadata": {
  "kernelspec": {
   "display_name": "Python 3",
   "language": "python",
   "name": "python3"
  },
  "language_info": {
   "codemirror_mode": {
    "name": "ipython",
    "version": 3
   },
   "file_extension": ".py",
   "mimetype": "text/x-python",
   "name": "python",
   "nbconvert_exporter": "python",
   "pygments_lexer": "ipython3",
   "version": "3.8.3"
  }
 },
 "nbformat": 4,
 "nbformat_minor": 4
}
