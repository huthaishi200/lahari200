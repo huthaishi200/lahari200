{
 "cells": [
  {
   "cell_type": "code",
   "execution_count": 1,
   "metadata": {},
   "outputs": [
    {
     "name": "stdout",
     "output_type": "stream",
     "text": [
      "enter the principal amount :8\n",
      "enter the number of years :6\n",
      "enter the rate of interest :8\n",
      "Simple Interest : 3.84\n"
     ]
    }
   ],
   "source": [
    "P = float(input(\"enter the principal amount :\"))\n",
    "N = float(input(\"enter the number of years :\"))\n",
    "R = float(input(\"enter the rate of interest :\"))\n",
    "SI = (P * N * R)/100\n",
    "print(\"Simple Interest : {}\".format(SI))\n",
    "\n"
   ]
  },
  {
   "cell_type": "code",
   "execution_count": null,
   "metadata": {},
   "outputs": [],
   "source": []
  }
 ],
 "metadata": {
  "kernelspec": {
   "display_name": "Python 3",
   "language": "python",
   "name": "python3"
  },
  "language_info": {
   "codemirror_mode": {
    "name": "ipython",
    "version": 3
   },
   "file_extension": ".py",
   "mimetype": "text/x-python",
   "name": "python",
   "nbconvert_exporter": "python",
   "pygments_lexer": "ipython3",
   "version": "3.8.3"
  }
 },
 "nbformat": 4,
 "nbformat_minor": 4
}
